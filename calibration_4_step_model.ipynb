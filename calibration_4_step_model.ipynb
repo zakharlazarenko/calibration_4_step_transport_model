{
 "cells": [
  {
   "cell_type": "code",
   "execution_count": 1,
   "id": "ee008d3e-a3cc-4c87-96ba-2396645f0391",
   "metadata": {},
   "outputs": [],
   "source": [
    "#pip install networkx"
   ]
  },
  {
   "cell_type": "code",
   "execution_count": 2,
   "id": "dba76459-9402-4e28-bb94-91a56ec8840a",
   "metadata": {},
   "outputs": [],
   "source": [
    "import networkx as nx\n",
    "import matplotlib.pyplot as plt\n",
    "import pandas as pd\n",
    "import numpy as np\n",
    "\n",
    "from sklearn.metrics import mean_absolute_error, mean_squared_error, root_mean_squared_error"
   ]
  },
  {
   "cell_type": "markdown",
   "id": "02f08259-b84a-4d25-9656-99a5b1781f2c",
   "metadata": {},
   "source": [
    "# Step 1: Creating a Simple Transport Network of 4 Zones\n",
    "\n",
    "We start by importing the necessary libraries:\n",
    "\n",
    "- `networkx as nx` for creating and working with graphs (networks)  \n",
    "- `matplotlib.pyplot as plt` for graph visualization\n",
    "\n",
    "Then we create an empty undirected graph `G` using:\n",
    "\n",
    "```python\n",
    "G = nx.Graph()\n",
    "```\n",
    "\n",
    "A **graph** is a structure made of **nodes** and **edges**.  \n",
    "In a transportation model:\n",
    "\n",
    "- **Nodes** represent zones  \n",
    "- **Edges** represent roads connecting these zones\n",
    "\n",
    "We define a list of 4 zones labeled as 1, 2, 3, and 4, and add them as nodes to the graph `G`.\n",
    "\n",
    "Next, we define a list of edges — pairs of zones that are connected by roads, e.g., `(1, 2)` represents a road between zones 1 and 2. These edges are added to the graph.\n",
    "\n",
    "We also define positions for each node to place them on a 2D plane for visualization purposes.  \n",
    "For example, zone 1 is placed at `(0, 1)` and zone 4 at `(1, 0)`.  \n",
    "This helps layout the graph in a square shape for clarity.\n",
    "\n",
    "**Summary:**\n",
    "\n",
    "- A simple graph with 4 nodes (zones)  \n",
    "- Connectivity between zones using edges (roads)  \n",
    "- Clear visualization of the network structure"
   ]
  },
  {
   "cell_type": "code",
   "execution_count": 3,
   "id": "c654f076-ea79-4d97-af94-f225d00e5cd5",
   "metadata": {},
   "outputs": [
    {
     "data": {
      "image/png": "[encoded data removed]",
      "text/plain": [
       "<Figure size 600x600 with 1 Axes>"
      ]
     },
     "metadata": {},
     "output_type": "display_data"
    }
   ],
   "source": [
    "# Create the graph\n",
    "G = nx.Graph()\n",
    "\n",
    "# Add nodes (4 zones)\n",
    "zones = [1, 2, 3, 4]\n",
    "G.add_nodes_from(zones)\n",
    "\n",
    "# Add edges (roads between zones)\n",
    "edges = [\n",
    "    (1, 2),  # road between zone 1 and 2\n",
    "    (1, 3),  # road between zone 1 and 3\n",
    "    (2, 4),  # road between zone 2 and 4\n",
    "    (3, 4),  # road between zone 3 and 4\n",
    "    (1, 4),  # diagonal road between zone 1 и 4\n",
    "]\n",
    "\n",
    "G.add_edges_from(edges)\n",
    "\n",
    "# Set node positions for visualization\n",
    "pos = {\n",
    "    1: (0, 1),\n",
    "    2: (1, 1),\n",
    "    3: (0, 0),\n",
    "    4: (1, 0),\n",
    "}\n",
    "\n",
    "# Visualize the graph\n",
    "plt.figure(figsize=(6,6))\n",
    "nx.draw(G, pos, with_labels=True, node_size=700, node_color='skyblue', font_size=16, font_weight='bold')\n",
    "plt.title(\"Simple Transport Network with 4 Zones\")\n",
    "plt.show()"
   ]
  },
  {
   "cell_type": "markdown",
   "id": "f282d432-1c36-41c6-98ce-813d68621478",
   "metadata": {},
   "source": [
    "# Step 2: Creating the OD Matrix\n",
    "- Rows: Origin zones\n",
    "- Columns: Destination zones\n",
    "- Values: Trip Demand (Number of trips from one zone to another)"
   ]
  },
  {
   "cell_type": "code",
   "execution_count": 4,
   "id": "7d4ab116-45e1-4d5c-a8bb-bf6b1b89d5da",
   "metadata": {},
   "outputs": [
    {
     "name": "stdout",
     "output_type": "stream",
     "text": [
      "   1   2   3   4\n",
      "1  0  10  15   5\n",
      "2  8   0   7  10\n",
      "3  5  12   0   8\n",
      "4  3   7   9   0\n"
     ]
    }
   ],
   "source": [
    "zones = [1, 2, 3, 4]\n",
    "data = {\n",
    "    1: [0, 8, 5, 3],\n",
    "    2: [10, 0, 12, 7],\n",
    "    3: [15, 7, 0, 9],\n",
    "    4: [5, 10, 8, 0]\n",
    "}\n",
    "\n",
    "# Creating a DataFrame\n",
    "od_matrix = pd.DataFrame(data, index=zones)\n",
    "print(od_matrix)"
   ]
  },
  {
   "cell_type": "code",
   "execution_count": 5,
   "id": "8426737f-9a4c-4d35-b613-cb058aadc121",
   "metadata": {},
   "outputs": [
    {
     "data": {
      "text/plain": [
       "pandas.core.frame.DataFrame"
      ]
     },
     "execution_count": 5,
     "metadata": {},
     "output_type": "execute_result"
    }
   ],
   "source": [
    "type(od_matrix)"
   ]
  },
  {
   "cell_type": "markdown",
   "id": "7fe44d79-1225-4117-89cf-cc3732fe1f9c",
   "metadata": {},
   "source": [
    "# Step 3: Routing and Flow Distribution\n",
    "\n",
    "**Requirements**:\n",
    "- Determine paths for traffic flows between zones, considering the transportation network structure (our graph).\n",
    "- Distribute trip volumes from the OD matrix across graph edges, obtaining traffic flow for each road.\n",
    "\n",
    "**Action Plan**:\n",
    "1. For each (origin (i), destination (j)) pair in the OD matrix, find the shortest path through the graph.\n",
    "2. Distribute the corresponding number of trips across the edges that comprise this path.\n",
    "3. Aggregate flows from all pairs to obtain total flow for each road. (Calculate cumulative flows for each edge)"
   ]
  },
  {
   "cell_type": "code",
   "execution_count": 6,
   "id": "b76d1b35-8aee-4afd-b38a-bb37f13dc43e",
   "metadata": {},
   "outputs": [
    {
     "data": {
      "text/plain": [
       "EdgeView([(1, 2), (1, 3), (1, 4), (2, 4), (3, 4)])"
      ]
     },
     "execution_count": 6,
     "metadata": {},
     "output_type": "execute_result"
    }
   ],
   "source": [
    "G.edges()"
   ]
  },
  {
   "cell_type": "code",
   "execution_count": 7,
   "id": "97ab6ff6-6271-4eea-abc7-0c5e4118b638",
   "metadata": {},
   "outputs": [
    {
     "data": {
      "text/plain": [
       "[(1, 2, {}), (1, 3, {}), (1, 4, {}), (2, 4, {}), (3, 4, {})]"
      ]
     },
     "execution_count": 7,
     "metadata": {},
     "output_type": "execute_result"
    }
   ],
   "source": [
    "list(G.edges(data=True))"
   ]
  },
  {
   "cell_type": "code",
   "execution_count": 8,
   "id": "58dc6c91-4d6e-4ac4-9b8c-2e6d5a951da3",
   "metadata": {},
   "outputs": [
    {
     "name": "stdout",
     "output_type": "stream",
     "text": [
      "Modelled flows by edge:\n",
      "(1, 2): 37\n",
      "(1, 3): 39\n",
      "(1, 4): 8\n",
      "(2, 4): 17\n",
      "(3, 4): 17\n"
     ]
    }
   ],
   "source": [
    "# Creating Edge Flow Dictionary\n",
    "edge_flows = {tuple(sorted(edge)): 0 for edge in G.edges()}\n",
    "\n",
    "# Iterate through all zone pairs in the OD matrix\n",
    "for origin in od_matrix.index:\n",
    "    for destination in od_matrix.columns:\n",
    "        if origin == destination:\n",
    "            continue\n",
    "        \n",
    "        trips = od_matrix.loc[origin, destination]\n",
    "        if trips == 0:\n",
    "            continue\n",
    "        \n",
    "        # Find shortest path in graph\n",
    "        path = nx.shortest_path(G, source=origin, target=destination)\n",
    "        \n",
    "        # Update flows for each edge in the path\n",
    "        for i in range(len(path) - 1):\n",
    "            edge = tuple(sorted((path[i], path[i + 1])))\n",
    "            edge_flows[edge] += trips\n",
    "\n",
    "# Display results\n",
    "print(\"Modelled flows by edge:\")\n",
    "for edge, flow in edge_flows.items():\n",
    "    print(f\"{edge}: {flow}\")"
   ]
  },
  {
   "cell_type": "code",
   "execution_count": 9,
   "id": "b2ba78c0-8afc-4fb3-8498-cbd24cf10100",
   "metadata": {},
   "outputs": [],
   "source": [
    "modelled_flows = edge_flows"
   ]
  },
  {
   "cell_type": "code",
   "execution_count": 10,
   "id": "4d47d7f1-daa9-4ddc-8a83-5238a3ff5720",
   "metadata": {},
   "outputs": [
    {
     "data": {
      "text/plain": [
       "{(1, 2): 37, (1, 3): 39, (1, 4): 8, (2, 4): 17, (3, 4): 17}"
      ]
     },
     "execution_count": 10,
     "metadata": {},
     "output_type": "execute_result"
    }
   ],
   "source": [
    "edge_flows"
   ]
  },
  {
   "cell_type": "code",
   "execution_count": 11,
   "id": "70797fe0-ddf0-4a13-94b1-cafa4184dc80",
   "metadata": {},
   "outputs": [
    {
     "data": {
      "text/plain": [
       "Index([1, 2, 3, 4], dtype='int64')"
      ]
     },
     "execution_count": 11,
     "metadata": {},
     "output_type": "execute_result"
    }
   ],
   "source": [
    "od_matrix.index"
   ]
  },
  {
   "cell_type": "code",
   "execution_count": 12,
   "id": "0ab1f098-1050-4ed0-ad50-513a9bde11d5",
   "metadata": {},
   "outputs": [
    {
     "data": {
      "text/plain": [
       "Index([1, 2, 3, 4], dtype='int64')"
      ]
     },
     "execution_count": 12,
     "metadata": {},
     "output_type": "execute_result"
    }
   ],
   "source": [
    "od_matrix.columns"
   ]
  },
  {
   "cell_type": "code",
   "execution_count": 13,
   "id": "ab9d5e27-1b9a-42e4-b9e9-795598307589",
   "metadata": {},
   "outputs": [
    {
     "data": {
      "text/plain": [
       "0"
      ]
     },
     "execution_count": 13,
     "metadata": {},
     "output_type": "execute_result"
    }
   ],
   "source": [
    "od_matrix.at[origin, destination]"
   ]
  },
  {
   "cell_type": "code",
   "execution_count": 14,
   "id": "f0dcea97-4a84-4ea0-8b21-3d209c861ba4",
   "metadata": {},
   "outputs": [
    {
     "data": {
      "text/plain": [
       "9"
      ]
     },
     "execution_count": 14,
     "metadata": {},
     "output_type": "execute_result"
    }
   ],
   "source": [
    "trips"
   ]
  },
  {
   "cell_type": "markdown",
   "id": "05e8fec6-8679-4695-91eb-299c02bc7175",
   "metadata": {},
   "source": [
    "**Output**: Modeled traffic flow for each road segment (model results based on OD matrix and shortest path assignment)\n",
    "\n",
    "**Key Characteristics**:\n",
    "- Generated through network assignment modeling\n",
    "- Represents predicted traffic volumes\n",
    "- Derived from:\n",
    "  - Origin-Destination demand matrix\n",
    "  - Shortest path routing algorithm\n",
    "  - Graph network topology"
   ]
  },
  {
   "cell_type": "markdown",
   "id": "c693053a-243f-405c-a5d9-e5ae2b6dd91a",
   "metadata": {},
   "source": [
    "# Step 4: Observed Flows (Synthetic Data - Simulating Real Measurements)\n",
    "\n",
    "**Objective**:  \n",
    "Create synthetic observed flow data that slightly differs from modeled flows to demonstrate calibration."
   ]
  },
  {
   "cell_type": "code",
   "execution_count": 15,
   "id": "4dbd0850-6fa8-43f1-8090-c1ef9067987e",
   "metadata": {},
   "outputs": [],
   "source": [
    "observed_flows = {\n",
    "    (1, 2): 42,\n",
    "    (1, 3): 36,\n",
    "    (1, 4): 10,\n",
    "    (2, 4): 20,\n",
    "    (3, 4): 15\n",
    "}"
   ]
  },
  {
   "cell_type": "markdown",
   "id": "64046846-b77d-4002-8b03-975fd191ea77",
   "metadata": {},
   "source": [
    "# Step 5: Accuracy Assessment (Pre-Calibration)\n",
    "\n",
    "**Objective**:  \n",
    "Quantify the difference between modeled and observed flows using standard error metrics."
   ]
  },
  {
   "cell_type": "code",
   "execution_count": 16,
   "id": "1a1a457e-3dee-471d-b224-f371db4df723",
   "metadata": {},
   "outputs": [
    {
     "name": "stdout",
     "output_type": "stream",
     "text": [
      "MAE: 3.00\n",
      "RMSE: 3.19\n",
      "MAPE: 13.71%\n"
     ]
    }
   ],
   "source": [
    "# Convert Flow Data to Lists\n",
    "model_values = []\n",
    "observed_values = []\n",
    "\n",
    "for edge in observed_flows:\n",
    "    model_values.append(modelled_flows.get(edge, 0))\n",
    "    observed_values.append(observed_flows[edge])\n",
    "\n",
    "# Metrics\n",
    "mae = mean_absolute_error(observed_values, model_values)\n",
    "rmse = root_mean_squared_error(observed_values, model_values)\n",
    "mape = np.mean(np.abs((np.array(observed_values) - np.array(model_values)) / np.array(observed_values))) * 100\n",
    "\n",
    "print(f\"MAE: {mae:.2f}\")\n",
    "print(f\"RMSE: {rmse:.2f}\")\n",
    "print(f\"MAPE: {mape:.2f}%\")"
   ]
  },
  {
   "cell_type": "markdown",
   "id": "fb2bd303-6188-4520-89f9-247c5bf09573",
   "metadata": {},
   "source": [
    "## Visualization"
   ]
  },
  {
   "cell_type": "code",
   "execution_count": 17,
   "id": "ac07191f-15a7-4c5f-b0ec-9198333a8667",
   "metadata": {},
   "outputs": [
    {
     "data": {
      "image/png": "[encoded data removed]",
      "text/plain": [
       "<Figure size 1000x600 with 1 Axes>"
      ]
     },
     "metadata": {},
     "output_type": "display_data"
    }
   ],
   "source": [
    "pos = nx.spring_layout(G, seed=42)\n",
    "\n",
    "plt.figure(figsize=(10, 6))\n",
    "nx.draw(G, pos, with_labels=True, node_size=800, node_color='lightblue', font_weight='bold')\n",
    "\n",
    "# Draw Graph with Edge Widths Proportional to Flow\n",
    "edge_weights = [edge_flows[tuple(sorted(edge))] for edge in G.edges()]\n",
    "nx.draw_networkx_edges(G, pos, width=[w / 2 for w in edge_weights], edge_color='blue')\n",
    "\n",
    "# Create edge labels dictionary\n",
    "edge_labels = {edge: edge_flows[tuple(sorted(edge))] for edge in G.edges()}\n",
    "nx.draw_networkx_edge_labels(G, pos, edge_labels=edge_labels, font_color='blue')\n",
    "\n",
    "plt.title('Modelled Flows')\n",
    "plt.axis('off')\n",
    "plt.show()"
   ]
  },
  {
   "cell_type": "code",
   "execution_count": 18,
   "id": "985e8530-808d-4c3d-b6c2-34b2c67b07a4",
   "metadata": {},
   "outputs": [
    {
     "data": {
      "image/png": "[encoded data removed]",
      "text/plain": [
       "<Figure size 1000x600 with 1 Axes>"
      ]
     },
     "metadata": {},
     "output_type": "display_data"
    }
   ],
   "source": [
    "plt.figure(figsize=(10, 6))\n",
    "nx.draw(G, pos, with_labels=True, node_size=800, node_color='lightgreen', font_weight='bold')\n",
    "\n",
    "# Edge width observed flows\n",
    "obs_weights = [observed_flows[tuple(sorted(edge))] for edge in G.edges()]\n",
    "nx.draw_networkx_edges(G, pos, width=[w / 2 for w in obs_weights], edge_color='red')\n",
    "\n",
    "# Labels\n",
    "obs_labels = {edge: observed_flows[tuple(sorted(edge))] for edge in G.edges()}\n",
    "nx.draw_networkx_edge_labels(G, pos, edge_labels=obs_labels, font_color='red')\n",
    "\n",
    "plt.title('Observed Flows')\n",
    "plt.axis('off')\n",
    "plt.show()"
   ]
  },
  {
   "cell_type": "markdown",
   "id": "ddcd4dc4-e484-49a2-bf5c-3184bc12241b",
   "metadata": {},
   "source": [
    "# Step 6. OD Matrix Calibration\n",
    "\n",
    "We have:\n",
    "- `OD-matrix` - current demand model (trips between zones)\n",
    "- `modelled_flows` - routing results based on the OD-matrix\n",
    "- `observed_flows` - \"real\" road measurement data\n",
    "- Error metrics (MAPE/MAE/RMSE) showing how much the model differs from reality\n",
    "\n",
    "Now we need to adjust the OD-matrix to improve the match between modelled and observed flows.\n",
    "\n",
    "How to do this?\n",
    "- We'll scale rows/columns of the OD-matrix so that resulting road flows better match the real ones (`observed_flows`). For now we'll do calibration manually.\n",
    "\n",
    "Goal: reduce the difference between `modelled_flows` and `observed_flows`. (Manually adjust OD-matrix values so that modelled flows better match observed ones)."
   ]
  },
  {
   "cell_type": "code",
   "execution_count": 19,
   "id": "21a9a721-61fc-48fa-a2be-e18166e7e35f",
   "metadata": {},
   "outputs": [
    {
     "data": {
      "text/plain": [
       "{(1, 2): 37, (1, 3): 39, (1, 4): 8, (2, 4): 17, (3, 4): 17}"
      ]
     },
     "execution_count": 19,
     "metadata": {},
     "output_type": "execute_result"
    }
   ],
   "source": [
    "modelled_flows"
   ]
  },
  {
   "cell_type": "code",
   "execution_count": 20,
   "id": "79862126-d280-4ef4-8a12-fa56d21ed1fa",
   "metadata": {},
   "outputs": [
    {
     "data": {
      "text/plain": [
       "{(1, 2): 42, (1, 3): 36, (1, 4): 10, (2, 4): 20, (3, 4): 15}"
      ]
     },
     "execution_count": 20,
     "metadata": {},
     "output_type": "execute_result"
    }
   ],
   "source": [
    "observed_flows"
   ]
  },
  {
   "cell_type": "code",
   "execution_count": 21,
   "id": "fd8b2efa-29d0-4cad-be92-1616d4be7545",
   "metadata": {},
   "outputs": [
    {
     "name": "stdout",
     "output_type": "stream",
     "text": [
      "     Edge  Modelled  Observed  Difference\n",
      "0  (1, 2)        40        42          -2\n",
      "1  (1, 3)        37        36           1\n",
      "2  (1, 4)        10        10           0\n",
      "3  (2, 4)        19        20          -1\n",
      "4  (3, 4)        16        15           1\n"
     ]
    }
   ],
   "source": [
    "modelled_flows = {\n",
    "    (1, 2): 40,\n",
    "    (1, 3): 37,\n",
    "    (1, 4): 10,\n",
    "    (2, 4): 19,\n",
    "    (3, 4): 16\n",
    "}\n",
    "\n",
    "observed_flows = {\n",
    "    (1, 2): 42,\n",
    "    (1, 3): 36,\n",
    "    (1, 4): 10,\n",
    "    (2, 4): 20,\n",
    "    (3, 4): 15\n",
    "}\n",
    "\n",
    "# DataFrame\n",
    "comparison_df = pd.DataFrame({\n",
    "    \"Edge\": list(modelled_flows.keys()),\n",
    "    \"Modelled\": [modelled_flows[edge] for edge in modelled_flows],\n",
    "    \"Observed\": [observed_flows[edge] for edge in modelled_flows],\n",
    "})\n",
    "\n",
    "# Add column\n",
    "comparison_df[\"Difference\"] = comparison_df[\"Modelled\"] - comparison_df[\"Observed\"]\n",
    "\n",
    "\n",
    "print(comparison_df)"
   ]
  },
  {
   "cell_type": "markdown",
   "id": "56ff78b9-098a-49bf-b213-bcc89e1f3d79",
   "metadata": {},
   "source": [
    "## Manual OD Matrix Adjustments\n",
    "\n",
    "Current status:  \n",
    "**Moderate errors detected** - applying targeted corrections:\n",
    "\n",
    "Increase flow (1,2) by 3 trips\n",
    "Decrease flow (1,3) by 2 trips\n",
    "Increase flow (1,4) by 2 trips\n",
    "Increase flow (2,4) by 2 trips\n",
    "Decrease flow (3,4) by 1 trip"
   ]
  },
  {
   "cell_type": "code",
   "execution_count": 22,
   "id": "fff52452-e89c-41cd-b3a2-be8888efb74d",
   "metadata": {},
   "outputs": [
    {
     "name": "stdout",
     "output_type": "stream",
     "text": [
      "MAE: 1.00\n",
      "RMSE: 1.18\n",
      "MAPE: 3.84%\n"
     ]
    }
   ],
   "source": [
    "zones = [1, 2, 3, 4]\n",
    "data = {\n",
    "    1: [0, 11, 3, 5],\n",
    "    2: [10, 0, 12, 9],\n",
    "    3: [15, 7, 0, 8],\n",
    "    4: [5, 10, 8, 0]\n",
    "}\n",
    "od_matrix = pd.DataFrame(data, index=zones)\n",
    "\n",
    "# Creating Edge Flow Dictionary\n",
    "edge_flows = {tuple(sorted(edge)): 0 for edge in G.edges()}\n",
    "\n",
    "# Iterate through all zone pairs in the OD matrix\n",
    "for origin in od_matrix.index:\n",
    "    for destination in od_matrix.columns:\n",
    "        if origin == destination:\n",
    "            continue\n",
    "        \n",
    "        trips = od_matrix.loc[origin, destination]\n",
    "        if trips == 0:\n",
    "            continue\n",
    "        \n",
    "        # Shortest path\n",
    "        path = nx.shortest_path(G, source=origin, target=destination)\n",
    "        \n",
    "        # Update flows for each edge in the path\n",
    "        for i in range(len(path) - 1):\n",
    "            edge = tuple(sorted((path[i], path[i + 1])))\n",
    "            edge_flows[edge] += trips\n",
    "\n",
    "modelled_flows = edge_flows\n",
    "\n",
    "model_values = []\n",
    "observed_values = []\n",
    "\n",
    "for edge in observed_flows:\n",
    "    model_values.append(modelled_flows.get(edge, 0))\n",
    "    observed_values.append(observed_flows[edge])\n",
    "\n",
    "# Metrics\n",
    "final_mae = mean_absolute_error(observed_values, model_values)\n",
    "final_rmse = root_mean_squared_error(observed_values, model_values)\n",
    "final_mape = np.mean(np.abs((np.array(observed_values) - np.array(model_values)) / np.array(observed_values))) * 100\n",
    "\n",
    "print(f\"MAE: {final_mae:.2f}\")\n",
    "print(f\"RMSE: {final_rmse:.2f}\")\n",
    "print(f\"MAPE: {final_mape:.2f}%\")\n",
    "\n"
   ]
  },
  {
   "cell_type": "code",
   "execution_count": 23,
   "id": "56ce707a-4c4a-4261-b8ca-3cfd5f279ddb",
   "metadata": {},
   "outputs": [
    {
     "name": "stdout",
     "output_type": "stream",
     "text": [
      "\n",
      "Pre-calibration  | Post-calibration\n",
      "-----------------|-----------------\n",
      "MAE:  3.0    | MAE:  1.0\n",
      "RMSE: 3.2   | RMSE: 1.2 \n",
      "MAPE: 13.7%  | MAPE: 3.8%\n",
      "\n"
     ]
    }
   ],
   "source": [
    "# Final Metrics Comparison\n",
    "print(f\"\"\"\n",
    "Pre-calibration  | Post-calibration\n",
    "-----------------|-----------------\n",
    "MAE:  {mae:.1f}    | MAE:  {final_mae:.1f}\n",
    "RMSE: {rmse:.1f}   | RMSE: {final_rmse:.1f} \n",
    "MAPE: {mape:.1f}%  | MAPE: {final_mape:.1f}%\n",
    "\"\"\")"
   ]
  },
  {
   "cell_type": "markdown",
   "id": "dbfe7ed9-7eaf-4923-b88d-150a3053a911",
   "metadata": {},
   "source": [
    "# Project Conclusion: Successful Model Calibration\n",
    "\n",
    "**Improved Accuracy Metrics** - The manual calibration process has yielded significant improvements:\n",
    "- MAE reduced by 3 times (from 3.0 to 1.0),\n",
    "- RMSE - reduced from 3.2 to 1.2,\n",
    "- MAPE decreased by **9.9%** (from 13.7 to 3.8)\n",
    "\n",
    "**Potential Enhancements:**\n",
    "- Mode choice.\n",
    "- Dynamic traffic assignment.\n",
    "- Public transit routes.\n",
    "- Gradient-based optimization.\n",
    "- Machine learning calibration."
   ]
  }
 ],
 "metadata": {
  "kernelspec": {
   "display_name": "Python 3 (ipykernel)",
   "language": "python",
   "name": "python3"
  },
  "language_info": {
   "codemirror_mode": {
    "name": "ipython",
    "version": 3
   },
   "file_extension": ".py",
   "mimetype": "text/x-python",
   "name": "python",
   "nbconvert_exporter": "python",
   "pygments_lexer": "ipython3",
   "version": "3.12.7"
  }
 },
 "nbformat": 4,
 "nbformat_minor": 5
}
